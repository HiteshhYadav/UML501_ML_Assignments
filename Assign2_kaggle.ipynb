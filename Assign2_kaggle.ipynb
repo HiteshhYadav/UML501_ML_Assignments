{
  "nbformat": 4,
  "nbformat_minor": 0,
  "metadata": {
    "colab": {
      "provenance": []
    },
    "kernelspec": {
      "name": "python3",
      "display_name": "Python 3"
    },
    "language_info": {
      "name": "python"
    }
  },
  "cells": [
    {
      "cell_type": "code",
      "execution_count": 1,
      "metadata": {
        "colab": {
          "base_uri": "https://localhost:8080/",
          "height": 0
        },
        "id": "R0iLF1-fjXO0",
        "outputId": "8021b7a3-f525-4129-c515-b11fa73e4573"
      },
      "outputs": [
        {
          "output_type": "stream",
          "name": "stdout",
          "text": [
            "Downloading from https://www.kaggle.com/api/v1/datasets/download/uciml/iris?dataset_version_number=2...\n"
          ]
        },
        {
          "output_type": "stream",
          "name": "stderr",
          "text": [
            "100%|██████████| 3.60k/3.60k [00:00<00:00, 5.65MB/s]"
          ]
        },
        {
          "output_type": "stream",
          "name": "stdout",
          "text": [
            "Extracting files...\n",
            "Path to dataset files: /root/.cache/kagglehub/datasets/uciml/iris/versions/2\n"
          ]
        },
        {
          "output_type": "stream",
          "name": "stderr",
          "text": [
            "\n"
          ]
        }
      ],
      "source": [
        "import kagglehub\n",
        "\n",
        "# Download latest version\n",
        "path = kagglehub.dataset_download(\"uciml/iris\")\n",
        "\n",
        "print(\"Path to dataset files:\", path)"
      ]
    },
    {
      "cell_type": "code",
      "source": [
        "#Ques 4\n",
        "import pandas as pd\n",
        "csv_path='/root/.cache/kagglehub/datasets/uciml/iris/versions/2/Iris.csv'\n",
        "iris=pd.read_csv(csv_path)\n",
        "print(iris.head())\n"
      ],
      "metadata": {
        "colab": {
          "base_uri": "https://localhost:8080/"
        },
        "id": "kykfAKkEjivT",
        "outputId": "2694eafd-bd69-445e-b592-cc4cd3a7d846"
      },
      "execution_count": 7,
      "outputs": [
        {
          "output_type": "stream",
          "name": "stdout",
          "text": [
            "   Id  SepalLengthCm  SepalWidthCm  PetalLengthCm  PetalWidthCm      Species\n",
            "0   1            5.1           3.5            1.4           0.2  Iris-setosa\n",
            "1   2            4.9           3.0            1.4           0.2  Iris-setosa\n",
            "2   3            4.7           3.2            1.3           0.2  Iris-setosa\n",
            "3   4            4.6           3.1            1.5           0.2  Iris-setosa\n",
            "4   5            5.0           3.6            1.4           0.2  Iris-setosa\n"
          ]
        }
      ]
    },
    {
      "cell_type": "code",
      "source": [
        "#Ques 5\n",
        "iris=iris.drop(index=3)\n",
        "iris=iris.drop(columns=iris.columns[2])\n",
        "print(iris)"
      ],
      "metadata": {
        "colab": {
          "base_uri": "https://localhost:8080/"
        },
        "id": "nPiZOSBlkrwk",
        "outputId": "3ef98591-62d2-4165-9d08-264452a6421e"
      },
      "execution_count": 8,
      "outputs": [
        {
          "output_type": "stream",
          "name": "stdout",
          "text": [
            "      Id  SepalLengthCm  PetalLengthCm  PetalWidthCm         Species\n",
            "0      1            5.1            1.4           0.2     Iris-setosa\n",
            "1      2            4.9            1.4           0.2     Iris-setosa\n",
            "2      3            4.7            1.3           0.2     Iris-setosa\n",
            "4      5            5.0            1.4           0.2     Iris-setosa\n",
            "5      6            5.4            1.7           0.4     Iris-setosa\n",
            "..   ...            ...            ...           ...             ...\n",
            "145  146            6.7            5.2           2.3  Iris-virginica\n",
            "146  147            6.3            5.0           1.9  Iris-virginica\n",
            "147  148            6.5            5.2           2.0  Iris-virginica\n",
            "148  149            6.2            5.4           2.3  Iris-virginica\n",
            "149  150            5.9            5.1           1.8  Iris-virginica\n",
            "\n",
            "[149 rows x 5 columns]\n"
          ]
        }
      ]
    }
  ]
}